{
 "cells": [
  {
   "cell_type": "code",
   "execution_count": 1,
   "metadata": {},
   "outputs": [],
   "source": [
    "import numpy as np\n",
    "import pandas as pd"
   ]
  },
  {
   "cell_type": "code",
   "execution_count": 2,
   "metadata": {},
   "outputs": [],
   "source": [
    "def sigmoid_numpy(X):\n",
    "   return 1/(1+np.exp(-X))\n",
    "\n",
    "def log_loss(y_true, y_predicted):\n",
    "    epsilon = 1e-15\n",
    "    y_predicted_new = [max(i,epsilon) for i in y_predicted]\n",
    "    y_predicted_new = [min(i,1-epsilon) for i in y_predicted_new]\n",
    "    y_predicted_new = np.array(y_predicted_new)\n",
    "    return -np.mean(y_true*np.log(y_predicted_new)+(1-y_true)*np.log(1-y_predicted_new))"
   ]
  },
  {
   "cell_type": "code",
   "execution_count": 19,
   "metadata": {},
   "outputs": [],
   "source": [
    "class myNN:\n",
    "    def __init__(self) -> None:\n",
    "        self.w1 = 1\n",
    "        self.w2 = 1\n",
    "        self.b = 0\n",
    "\n",
    "    def fit(self, X, y, epochs) -> None:\n",
    "        X_age = np.array([i[0] for i in X])\n",
    "        X_affordibility = np.array([i[1] for i in X])\n",
    "        self.w1, self.w2, self.b = self.gradient_descent(X_age, X_affordibility, y, epochs)\n",
    "\n",
    "    def predict(self, X_test):\n",
    "        X_test_age = np.array([i[0] for i in X_test])\n",
    "        X_test_affordibility = np.array([i[1] for i in X_test])\n",
    "        weighted_sum = self.w1 * X_test_age + self.w2 * X_test_affordibility + self.b\n",
    "        return sigmoid_numpy(weighted_sum)\n",
    "\n",
    "    def gradient_descent(self, age, affordability, y_true, epochs) -> tuple[float, float, float]:\n",
    "        w1 = w2 = 1\n",
    "        bias = 0\n",
    "        rate = 0.5\n",
    "        n = len(age)\n",
    "\n",
    "        for i in range(epochs):\n",
    "            weighted_sum = w1 * age + w2 * affordability + bias\n",
    "            y_predicted = sigmoid_numpy(weighted_sum)\n",
    "            loss = log_loss(y_true, y_predicted)\n",
    "\n",
    "            w1d = (1 / n) * np.dot(np.transpose(age), (y_predicted - y_true)) \n",
    "            w2d = (1 / n) * np.dot(np.transpose(affordability), (y_predicted - y_true)) \n",
    "            bias_d = np.mean(y_predicted - y_true)\n",
    "\n",
    "            w1 = w1 - rate * w1d\n",
    "            w2 = w2 - rate * w2d\n",
    "            bias = bias - rate * bias_d\n",
    "\n",
    "            if i % 50 == 0:\n",
    "                print (f'Epoch:{i + 1}, w1:{w1}, w2:{w2}, bias:{bias}, loss:{loss}')\n",
    "\n",
    "        return w1, w2, bias"
   ]
  },
  {
   "cell_type": "code",
   "execution_count": 7,
   "metadata": {},
   "outputs": [],
   "source": [
    "df = pd.read_csv('../Data/insurance_advanced_data.csv')\n",
    "X = df[['age', 'affordibility']]\n",
    "y = df['bought_insurance']"
   ]
  },
  {
   "cell_type": "code",
   "execution_count": 8,
   "metadata": {},
   "outputs": [],
   "source": [
    "from sklearn.preprocessing import MinMaxScaler\n",
    "scaler = MinMaxScaler()\n",
    "X_scaled = scaler.fit_transform(X)"
   ]
  },
  {
   "cell_type": "code",
   "execution_count": 9,
   "metadata": {},
   "outputs": [],
   "source": [
    "from sklearn.model_selection import train_test_split\n",
    "X_train, X_test, y_train, y_test = train_test_split(X_scaled, y, test_size=0.2)"
   ]
  },
  {
   "cell_type": "code",
   "execution_count": 20,
   "metadata": {},
   "outputs": [
    {
     "name": "stdout",
     "output_type": "stream",
     "text": [
      "Epoch:1, w1:0.997299583978896, w2:0.9857542904390502, bias:-0.07885113580070288, loss:0.5577543453644745\n",
      "Epoch:51, w1:1.9165174450460976, w2:1.433024589610706, bias:-1.3797988322624164, loss:0.41881181833645464\n",
      "Epoch:101, w1:2.666908965842676, w2:1.7340069850274258, bias:-1.9958828269404973, loss:0.3764137162840225\n",
      "Epoch:151, w1:3.2077831175538103, w2:1.9229419032403827, bias:-2.415847684718233, loss:0.3558510629911284\n",
      "Epoch:201, w1:3.6087362395408698, w2:2.0628909500532933, bias:-2.725205089918443, loss:0.3446423158494896\n",
      "Epoch:251, w1:3.913996367036419, w2:2.175103987657528, bias:-2.963798665451885, loss:0.3380511064424031\n",
      "Epoch:301, w1:4.151945959940094, w2:2.2682663830103653, bias:-3.1532847723411663, loss:0.33395782164236576\n",
      "Epoch:351, w1:4.341175059602937, w2:2.3468243792937975, bias:-3.306810752924368, loss:0.33130972836266515\n",
      "Epoch:401, w1:4.49417820307394, w2:2.4135727831000073, bias:-3.4330127411738207, loss:0.32954212670298705\n",
      "Epoch:451, w1:4.619586571016435, w2:2.4705342424142493, bias:-3.53789398590151, loss:0.32833316142885194\n"
     ]
    }
   ],
   "source": [
    "model = myNN()\n",
    "model.fit(X_train, y_train, epochs=500)"
   ]
  },
  {
   "cell_type": "code",
   "execution_count": 21,
   "metadata": {},
   "outputs": [
    {
     "data": {
      "text/plain": [
       "array([0.88144417, 0.86976335, 0.02883573, 0.36140878, 0.2486541 ,\n",
       "       0.49182412])"
      ]
     },
     "execution_count": 21,
     "metadata": {},
     "output_type": "execute_result"
    }
   ],
   "source": [
    "model.predict(X_test)"
   ]
  },
  {
   "cell_type": "code",
   "execution_count": null,
   "metadata": {},
   "outputs": [],
   "source": []
  }
 ],
 "metadata": {
  "kernelspec": {
   "display_name": ".venv",
   "language": "python",
   "name": "python3"
  },
  "language_info": {
   "codemirror_mode": {
    "name": "ipython",
    "version": 3
   },
   "file_extension": ".py",
   "mimetype": "text/x-python",
   "name": "python",
   "nbconvert_exporter": "python",
   "pygments_lexer": "ipython3",
   "version": "3.9.7"
  }
 },
 "nbformat": 4,
 "nbformat_minor": 2
}
